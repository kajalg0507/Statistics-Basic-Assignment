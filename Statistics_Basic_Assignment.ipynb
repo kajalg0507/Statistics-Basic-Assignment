{
  "nbformat": 4,
  "nbformat_minor": 0,
  "metadata": {
    "colab": {
      "provenance": []
    },
    "kernelspec": {
      "name": "python3",
      "display_name": "Python 3"
    },
    "language_info": {
      "name": "python"
    }
  },
  "cells": [
    {
      "cell_type": "markdown",
      "source": [
        "# **STATISTICS BASIC ASSIGNMENT**"
      ],
      "metadata": {
        "id": "6z7Ht5jbK1KH"
      }
    },
    {
      "cell_type": "markdown",
      "source": [
        "#1. What is the difference between descriptive statistics and inferential statistics? Explain with examples.\n",
        "Descriptive statistics summarizes and organizes the features of a dataset. Its goal is to describe the data you have. Inferential statistics, on the other hand, uses data from a sample to make inferences or predictions about a larger population.\n",
        "\n",
        "- **DESCRIPTIVE STATISTICS EXAMPLE:** Calculating the average exam score for a class of 30 students. You are simply describing the performance of that specific class. Another example would be creating a bar chart to show the number of students who received A, B, and C grades.\n",
        "\n",
        "- **INFERENTIAL STATISTICS EXAMPLE:** After surveying 1,000 voters about their preferred candidate, you use that data to predict the election outcome for the entire country. You are using a sample to infer something about the total population.\n",
        "\n",
        "#2. What is sampling in statistics? Explain the differences between random and stratified sampling.\n",
        "**Sampling** is the process of selecting a subset of individuals from a larger population to estimate the characteristics of the whole population. It is used when studying the entire population is impractical or too expensive.\n",
        "\n",
        "The main difference between random sampling and stratified sampling lies in how the sample is selected:\n",
        "\n",
        "- **RANDOM SAMPLING:** Every individual in the population has an equal chance of being selected. It's like drawing names out of a hat. This method is simple but may not be representative if the population has distinct subgroups.\n",
        "\n",
        "- **STRATIFIED SAMPLING:** The population is first divided into distinct subgroups, or \"strata,\" based on shared characteristics (e.g., age, gender, location). Then, a random sample is taken from each subgroup, often in proportion to the subgroup's size in the population. This ensures that all subgroups are adequately represented in the final sample.\n",
        "\n",
        "#3. Define mean, median, and mode. Explain why these measures of central tendency are important.\n",
        "**Mean, median, and mode** are measures of central tendency that describe the center or typical value of a dataset.\n",
        "\n",
        "- **MEAN:** The average of all the numbers in a dataset. It is calculated by summing all values and dividing by the count of values.\n",
        "\n",
        "- **MEDIAN:** The middle value in a dataset that has been sorted in ascending order. If the dataset has an even number of values, the median is the average of the two middle numbers.\n",
        "\n",
        "- **MODE:** The value that appears most frequently in a dataset. A dataset can have one mode, more than one mode, or no mode.\n",
        "\n",
        "These measures are important because they provide a single value that summarizes the entire dataset, making it easier to understand and compare different groups of data. They help identify the \"center\" of the data's distribution.\n",
        "\n",
        "#4. Explain skewness and kurtosis. What does a positive skew imply about the data?\n",
        "Skewness and kurtosis are measures that describe the shape of a data distribution.\n",
        "\n",
        "- **SKEWNESS:** Measures the asymmetry of the distribution.\n",
        "\n",
        "  - **Positive Skew (Right-skewed):** The tail on the right side of the distribution is longer or fatter than the left side. The mean is greater than the median.\n",
        "\n",
        "  - **Negative Skew (Left-skewed):** The tail on the left side is longer than the right. The mean is less than the median.\n",
        "\n",
        "- **KURTOSIS:** Measures the \"tailedness\" of the distribution, or how heavy its tails are. It indicates the presence of outliers.\n",
        "\n",
        "  - **High Kurtosis (Leptokurtic):** Heavy tails and a sharp peak, indicating more outliers.\n",
        "\n",
        "  - **Low Kurtosis (Platykurtic):** Light tails and a flatter peak, indicating fewer outliers.\n",
        "\n",
        "A **positive skew implies** that the majority of the data points are concentrated on the left side of the distribution, with a few large values pulling the mean to the right.\n",
        "\n",
        "#5. Implement a Python program to compute the mean, median, and mode of a given list of numbers.\n",
        "numbers = [12, 15, 12, 18, 19, 12, 20, 22, 19, 19, 24, 24, 24, 26, 28]\n"
      ],
      "metadata": {
        "id": "c965mXcILIeV"
      }
    },
    {
      "cell_type": "code",
      "execution_count": 1,
      "metadata": {
        "colab": {
          "base_uri": "https://localhost:8080/"
        },
        "id": "n2RvJIxQKTJ5",
        "outputId": "7bac8327-e553-424d-e88c-c6aded30c1df"
      },
      "outputs": [
        {
          "output_type": "stream",
          "name": "stdout",
          "text": [
            "The list of numbers is: [12, 15, 12, 18, 19, 12, 20, 22, 19, 19, 24, 24, 24, 26, 28]\n",
            "Mean: 19.6\n",
            "Median: 19.0\n",
            "Mode: 12 (appears 3 times)\n"
          ]
        }
      ],
      "source": [
        "import numpy as np\n",
        "from scipy import stats\n",
        "\n",
        "numbers = [12, 15, 12, 18, 19, 12, 20, 22, 19, 19, 24, 24, 24, 26, 28]\n",
        "\n",
        "# Calculate Mean\n",
        "mean_value = np.mean(numbers)\n",
        "\n",
        "# Calculate Median\n",
        "median_value = np.median(numbers)\n",
        "\n",
        "# Calculate Mode\n",
        "mode_value = stats.mode(numbers)\n",
        "\n",
        "print(f\"The list of numbers is: {numbers}\")\n",
        "print(f\"Mean: {mean_value}\")\n",
        "print(f\"Median: {median_value}\")\n",
        "print(f\"Mode: {mode_value.mode} (appears {mode_value.count} times)\")"
      ]
    },
    {
      "cell_type": "markdown",
      "source": [
        "#6. Compute the covariance and correlation coefficient between the following two datasets provided as lists in Python:\n",
        "list_x = [10, 20, 30, 40, 50]\n",
        "\n",
        "list_y = [15, 25, 35, 45, 60]\n"
      ],
      "metadata": {
        "id": "iRYSnLr-O9g2"
      }
    },
    {
      "cell_type": "code",
      "source": [
        "import numpy as np\n",
        "\n",
        "list_x = [10, 20, 30, 40, 50]\n",
        "list_y = [15, 25, 35, 45, 60]\n",
        "\n",
        "# --- Covariance ---\n",
        "# Note: The result is a 2x2 matrix where the diagonal elements are the variance\n",
        "# of each list, and the off-diagonal elements are the covariance.\n",
        "covariance_matrix = np.cov(list_x, list_y)\n",
        "covariance_xy = covariance_matrix[0, 1]\n",
        "\n",
        "# --- Correlation Coefficient ---\n",
        "# Note: The result is a 2x2 matrix where the off-diagonal elements are the\n",
        "# correlation coefficient.\n",
        "correlation_matrix = np.corrcoef(list_x, list_y)\n",
        "correlation_xy = correlation_matrix[0, 1]\n",
        "\n",
        "print(f\"List X: {list_x}\")\n",
        "print(f\"List Y: {list_y}\")\n",
        "print(f\"\\nCovariance Matrix:\\n{covariance_matrix}\")\n",
        "print(f\"Covariance between X and Y: {covariance_xy:.2f}\")\n",
        "print(f\"\\nCorrelation Matrix:\\n{correlation_matrix}\")\n",
        "print(f\"Correlation Coefficient between X and Y: {correlation_xy:.4f}\")"
      ],
      "metadata": {
        "colab": {
          "base_uri": "https://localhost:8080/"
        },
        "id": "h4g01wzaS2xe",
        "outputId": "beba327a-0c8a-4e95-d086-9087dcb738ad"
      },
      "execution_count": 2,
      "outputs": [
        {
          "output_type": "stream",
          "name": "stdout",
          "text": [
            "List X: [10, 20, 30, 40, 50]\n",
            "List Y: [15, 25, 35, 45, 60]\n",
            "\n",
            "Covariance Matrix:\n",
            "[[250. 275.]\n",
            " [275. 305.]]\n",
            "Covariance between X and Y: 275.00\n",
            "\n",
            "Correlation Matrix:\n",
            "[[1.         0.99589321]\n",
            " [0.99589321 1.        ]]\n",
            "Correlation Coefficient between X and Y: 0.9959\n"
          ]
        }
      ]
    },
    {
      "cell_type": "markdown",
      "source": [
        "#7. Write a Python script to draw a boxplot for the following numeric list and\n",
        "identify its outliers. Explain the result:\n",
        "data = [12, 14, 14, 15, 18, 19, 19, 21, 22, 22, 23, 23, 24, 26, 29, 35]"
      ],
      "metadata": {
        "id": "FWQ7Dm0kS_JJ"
      }
    },
    {
      "cell_type": "code",
      "source": [
        "import matplotlib.pyplot as plt\n",
        "import numpy as np\n",
        "\n",
        "data = [12, 14, 14, 15, 18, 19, 19, 21, 22, 22, 23, 23, 24, 26, 29, 35]\n",
        "\n",
        "# Create the boxplot\n",
        "plt.figure(figsize=(8, 6))\n",
        "plt.boxplot(data)\n",
        "plt.title('Boxplot of Data')\n",
        "plt.ylabel('Values')\n",
        "plt.grid(True)\n",
        "plt.show()\n",
        "\n",
        "# Identify outliers mathematically\n",
        "q1 = np.percentile(data, 25)\n",
        "q3 = np.percentile(data, 75)\n",
        "iqr = q3 - q1\n",
        "upper_bound = q3 + 1.5 * iqr\n",
        "\n",
        "outliers = [d for d in data if d > upper_bound]\n",
        "print(f\"Data: {data}\")\n",
        "print(f\"The outlier in the dataset is: {outliers[0]}\")"
      ],
      "metadata": {
        "colab": {
          "base_uri": "https://localhost:8080/",
          "height": 580
        },
        "id": "rKTbX4ICTFqG",
        "outputId": "2d3beb2f-37c5-4d94-d077-c8db26c655cc"
      },
      "execution_count": 3,
      "outputs": [
        {
          "output_type": "display_data",
          "data": {
            "text/plain": [
              "<Figure size 800x600 with 1 Axes>"
            ],
            "image/png": "[encoded data removed]"
          },
          "metadata": {}
        },
        {
          "output_type": "stream",
          "name": "stdout",
          "text": [
            "Data: [12, 14, 14, 15, 18, 19, 19, 21, 22, 22, 23, 23, 24, 26, 29, 35]\n",
            "The outlier in the dataset is: 35\n"
          ]
        }
      ]
    },
    {
      "cell_type": "markdown",
      "source": [
        "#8. You are working as a data analyst in an e-commerce company. The marketing team wants to know if there is a relationship between advertising spend and daily sales.\n",
        "- Explain how you would use covariance and correlation to explore this\n",
        "relationship.\n",
        "- Write Python code to compute the correlation between the two lists:\n",
        "\n",
        "advertising_spend = [200, 250, 300, 400, 500]\n",
        "\n",
        "daily_sales = [2200, 2450, 2750, 3200, 4000]\n",
        "\n",
        "**ANS:-** **How to Use Covariance and Correlation:**\n",
        "\n",
        "To explore the relationship between advertising spend and daily sales, I would calculate both the covariance and the correlation:\n",
        "\n",
        "1. **COVARIANCE:** I would first calculate the covariance. A positive covariance would tell me that as advertising spend increases, daily sales also tend to increase. A negative covariance would indicate the opposite. However, the magnitude of the covariance is hard to interpret because it depends on the units of the variables (e.g., dollars and sales units).\n",
        "\n",
        "2. **CORRELATION:** To get a standardized and more interpretable measure, I would calculate the correlation coefficient. This value is always between -1 and 1.\n",
        "\n",
        "   - A correlation close to +1 would indicate a strong positive linear relationship, meaning that higher advertising spend is strongly associated with higher sales.\n",
        "\n",
        "   - A correlation close to -1 would indicate a strong negative relationship.\n",
        "\n",
        "   - A correlation close to 0 would suggest there is no linear relationship between the two.\n",
        "\n",
        "For the marketing team, the correlation coefficient is the most valuable metric as it clearly quantifies both the direction and strength of the relationship.\n"
      ],
      "metadata": {
        "id": "QnH9cvvST7tW"
      }
    },
    {
      "cell_type": "code",
      "source": [
        "import numpy as np\n",
        "\n",
        "advertising_spend = [200, 250, 300, 400, 500]\n",
        "daily_sales = [2200, 2450, 2750, 3200, 4000]\n",
        "\n",
        "# Compute the correlation coefficient\n",
        "correlation_matrix = np.corrcoef(advertising_spend, daily_sales)\n",
        "correlation = correlation_matrix[0, 1]\n",
        "\n",
        "print(f\"Advertising Spend: {advertising_spend}\")\n",
        "print(f\"Daily Sales: {daily_sales}\")\n",
        "print(f\"\\nCorrelation between Advertising Spend and Daily Sales: {correlation:.4f}\")"
      ],
      "metadata": {
        "colab": {
          "base_uri": "https://localhost:8080/"
        },
        "id": "8GuhsWsHVn-q",
        "outputId": "79493cbc-ec67-4cf2-81bf-fe1eefaef67b"
      },
      "execution_count": 4,
      "outputs": [
        {
          "output_type": "stream",
          "name": "stdout",
          "text": [
            "Advertising Spend: [200, 250, 300, 400, 500]\n",
            "Daily Sales: [2200, 2450, 2750, 3200, 4000]\n",
            "\n",
            "Correlation between Advertising Spend and Daily Sales: 0.9936\n"
          ]
        }
      ]
    },
    {
      "cell_type": "markdown",
      "source": [
        "#9. Your team has collected customer satisfaction survey data on a scale of 1-10 and wants to understand its distribution before launching a new product.\n",
        "\n",
        "- Explain which summary statistics and visualizations (e.g. mean, standard\n",
        "deviation, histogram) you’d use.\n",
        "- Write Python code to create a histogram using Matplotlib for the survey data:\n",
        "\n",
        "survey_scores = [7, 8, 5, 9, 6, 7, 8, 9, 10, 4, 7, 6, 9, 8, 7]\n",
        "\n",
        "**ANS:-** **Summary Statistics and Visualizations:**\n",
        "\n",
        "To understand the distribution of the customer satisfaction survey data, I would use the following:\n",
        "\n",
        "1. **Summary Statistics:**\n",
        "\n",
        "   - **MEAN:** To find the average satisfaction score.\n",
        "\n",
        "   - **MEDIAN:** To find the middle score, which is less affected by unusually high or low scores (outliers).\n",
        "\n",
        "   - **STANDARD DEVIATION:** To measure the spread or variability of the scores. A low standard deviation means the scores are clustered close to the average, while a high one indicates they are more spread out.\n",
        "\n",
        "2. **Visualizations:**\n",
        "\n",
        "   - **HISTOGRAM:** This is the most important visualization here. It would show the frequency of each score (from 1 to 10), allowing the team to quickly see which satisfaction levels are most common and to observe the overall shape of the distribution (e.g., is it skewed towards high scores?).\n"
      ],
      "metadata": {
        "id": "c0GVZzjtVq0K"
      }
    },
    {
      "cell_type": "code",
      "source": [
        "import matplotlib.pyplot as plt\n",
        "\n",
        "survey_scores = [7, 8, 5, 9, 6, 7, 8, 9, 10, 4, 7, 6, 9, 8, 7]\n",
        "\n",
        "# Create the histogram\n",
        "plt.figure(figsize=(10, 6))\n",
        "plt.hist(survey_scores, bins=range(1, 12), edgecolor='black', align='left')\n",
        "plt.title('Distribution of Customer Satisfaction Scores')\n",
        "plt.xlabel('Satisfaction Score (1-10)')\n",
        "plt.ylabel('Frequency (Number of Customers)')\n",
        "plt.xticks(range(1, 11))\n",
        "plt.grid(axis='y', alpha=0.75)\n",
        "plt.show()"
      ],
      "metadata": {
        "colab": {
          "base_uri": "https://localhost:8080/",
          "height": 564
        },
        "id": "Xei1M0HgXEkS",
        "outputId": "2fd2265d-83f7-45b9-d4ce-b7ed974f907c"
      },
      "execution_count": 5,
      "outputs": [
        {
          "output_type": "display_data",
          "data": {
            "text/plain": [
              "<Figure size 1000x600 with 1 Axes>"
            ],
            "image/png": "[encoded data removed]"
          },
          "metadata": {}
        }
      ]
    }
  ]
}